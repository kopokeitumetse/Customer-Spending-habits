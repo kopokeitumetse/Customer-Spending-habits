{
 "cells": [
  {
   "cell_type": "code",
   "execution_count": 1,
   "id": "dd43d1d6",
   "metadata": {
    "_cell_guid": "b1076dfc-b9ad-4769-8c92-a6c4dae69d19",
    "_uuid": "8f2839f25d086af736a60e9eeb907d3b93b6e0e5",
    "execution": {
     "iopub.execute_input": "2023-04-05T23:07:27.061232Z",
     "iopub.status.busy": "2023-04-05T23:07:27.060136Z",
     "iopub.status.idle": "2023-04-05T23:07:27.083640Z",
     "shell.execute_reply": "2023-04-05T23:07:27.082563Z"
    },
    "papermill": {
     "duration": 0.035239,
     "end_time": "2023-04-05T23:07:27.086798",
     "exception": false,
     "start_time": "2023-04-05T23:07:27.051559",
     "status": "completed"
    },
    "tags": []
   },
   "outputs": [
    {
     "name": "stdout",
     "output_type": "stream",
     "text": [
      "/kaggle/input/analyzing-customer-spending-habits-to-improve-sa/SalesForCourse_quizz_table.csv\n"
     ]
    }
   ],
   "source": [
    "# This Python 3 environment comes with many helpful analytics libraries installed\n",
    "# It is defined by the kaggle/python Docker image: https://github.com/kaggle/docker-python\n",
    "# For example, here's several helpful packages to load\n",
    "\n",
    "import numpy as np # linear algebra\n",
    "import pandas as pd # data processing, CSV file I/O (e.g. pd.read_csv)\n",
    "import matplotlib.pyplot as plt\n",
    "\n",
    "# Input data files are available in the read-only \"../input/\" directory\n",
    "# For example, running this (by clicking run or pressing Shift+Enter) will list all files under the input directory\n",
    "\n",
    "import os\n",
    "for dirname, _, filenames in os.walk('/kaggle/input'):\n",
    "    for filename in filenames:\n",
    "        print(os.path.join(dirname, filename))\n",
    "\n",
    "# You can write up to 20GB to the current directory (/kaggle/working/) that gets preserved as output when you create a version using \"Save & Run All\" \n",
    "# You can also write temporary files to /kaggle/temp/, but they won't be saved outside of the current session"
   ]
  },
  {
   "cell_type": "code",
   "execution_count": 2,
   "id": "06ada1a3",
   "metadata": {
    "execution": {
     "iopub.execute_input": "2023-04-05T23:07:27.099460Z",
     "iopub.status.busy": "2023-04-05T23:07:27.098604Z",
     "iopub.status.idle": "2023-04-05T23:07:27.310948Z",
     "shell.execute_reply": "2023-04-05T23:07:27.309527Z"
    },
    "papermill": {
     "duration": 0.221418,
     "end_time": "2023-04-05T23:07:27.313592",
     "exception": false,
     "start_time": "2023-04-05T23:07:27.092174",
     "status": "completed"
    },
    "tags": []
   },
   "outputs": [
    {
     "data": {
      "text/html": [
       "<div>\n",
       "<style scoped>\n",
       "    .dataframe tbody tr th:only-of-type {\n",
       "        vertical-align: middle;\n",
       "    }\n",
       "\n",
       "    .dataframe tbody tr th {\n",
       "        vertical-align: top;\n",
       "    }\n",
       "\n",
       "    .dataframe thead th {\n",
       "        text-align: right;\n",
       "    }\n",
       "</style>\n",
       "<table border=\"1\" class=\"dataframe\">\n",
       "  <thead>\n",
       "    <tr style=\"text-align: right;\">\n",
       "      <th></th>\n",
       "      <th>index</th>\n",
       "      <th>Date</th>\n",
       "      <th>Year</th>\n",
       "      <th>Month</th>\n",
       "      <th>Customer Age</th>\n",
       "      <th>Customer Gender</th>\n",
       "      <th>Country</th>\n",
       "      <th>State</th>\n",
       "      <th>Product Category</th>\n",
       "      <th>Sub Category</th>\n",
       "      <th>Quantity</th>\n",
       "      <th>Unit Cost</th>\n",
       "      <th>Unit Price</th>\n",
       "      <th>Cost</th>\n",
       "      <th>Revenue</th>\n",
       "      <th>Column1</th>\n",
       "    </tr>\n",
       "  </thead>\n",
       "  <tbody>\n",
       "    <tr>\n",
       "      <th>0</th>\n",
       "      <td>0</td>\n",
       "      <td>02/19/16</td>\n",
       "      <td>2016.0</td>\n",
       "      <td>February</td>\n",
       "      <td>29.0</td>\n",
       "      <td>F</td>\n",
       "      <td>United States</td>\n",
       "      <td>Washington</td>\n",
       "      <td>Accessories</td>\n",
       "      <td>Tires and Tubes</td>\n",
       "      <td>1.0</td>\n",
       "      <td>80.00</td>\n",
       "      <td>109.000000</td>\n",
       "      <td>80.0</td>\n",
       "      <td>109.0</td>\n",
       "      <td>NaN</td>\n",
       "    </tr>\n",
       "    <tr>\n",
       "      <th>1</th>\n",
       "      <td>1</td>\n",
       "      <td>02/20/16</td>\n",
       "      <td>2016.0</td>\n",
       "      <td>February</td>\n",
       "      <td>29.0</td>\n",
       "      <td>F</td>\n",
       "      <td>United States</td>\n",
       "      <td>Washington</td>\n",
       "      <td>Clothing</td>\n",
       "      <td>Gloves</td>\n",
       "      <td>2.0</td>\n",
       "      <td>24.50</td>\n",
       "      <td>28.500000</td>\n",
       "      <td>49.0</td>\n",
       "      <td>57.0</td>\n",
       "      <td>NaN</td>\n",
       "    </tr>\n",
       "    <tr>\n",
       "      <th>2</th>\n",
       "      <td>2</td>\n",
       "      <td>02/27/16</td>\n",
       "      <td>2016.0</td>\n",
       "      <td>February</td>\n",
       "      <td>29.0</td>\n",
       "      <td>F</td>\n",
       "      <td>United States</td>\n",
       "      <td>Washington</td>\n",
       "      <td>Accessories</td>\n",
       "      <td>Tires and Tubes</td>\n",
       "      <td>3.0</td>\n",
       "      <td>3.67</td>\n",
       "      <td>5.000000</td>\n",
       "      <td>11.0</td>\n",
       "      <td>15.0</td>\n",
       "      <td>NaN</td>\n",
       "    </tr>\n",
       "    <tr>\n",
       "      <th>3</th>\n",
       "      <td>3</td>\n",
       "      <td>03/12/16</td>\n",
       "      <td>2016.0</td>\n",
       "      <td>March</td>\n",
       "      <td>29.0</td>\n",
       "      <td>F</td>\n",
       "      <td>United States</td>\n",
       "      <td>Washington</td>\n",
       "      <td>Accessories</td>\n",
       "      <td>Tires and Tubes</td>\n",
       "      <td>2.0</td>\n",
       "      <td>87.50</td>\n",
       "      <td>116.500000</td>\n",
       "      <td>175.0</td>\n",
       "      <td>233.0</td>\n",
       "      <td>NaN</td>\n",
       "    </tr>\n",
       "    <tr>\n",
       "      <th>4</th>\n",
       "      <td>4</td>\n",
       "      <td>03/12/16</td>\n",
       "      <td>2016.0</td>\n",
       "      <td>March</td>\n",
       "      <td>29.0</td>\n",
       "      <td>F</td>\n",
       "      <td>United States</td>\n",
       "      <td>Washington</td>\n",
       "      <td>Accessories</td>\n",
       "      <td>Tires and Tubes</td>\n",
       "      <td>3.0</td>\n",
       "      <td>35.00</td>\n",
       "      <td>41.666667</td>\n",
       "      <td>105.0</td>\n",
       "      <td>125.0</td>\n",
       "      <td>NaN</td>\n",
       "    </tr>\n",
       "  </tbody>\n",
       "</table>\n",
       "</div>"
      ],
      "text/plain": [
       "   index      Date    Year     Month  Customer Age Customer Gender  \\\n",
       "0      0  02/19/16  2016.0  February          29.0               F   \n",
       "1      1  02/20/16  2016.0  February          29.0               F   \n",
       "2      2  02/27/16  2016.0  February          29.0               F   \n",
       "3      3  03/12/16  2016.0     March          29.0               F   \n",
       "4      4  03/12/16  2016.0     March          29.0               F   \n",
       "\n",
       "         Country       State Product Category     Sub Category  Quantity  \\\n",
       "0  United States  Washington      Accessories  Tires and Tubes       1.0   \n",
       "1  United States  Washington         Clothing           Gloves       2.0   \n",
       "2  United States  Washington      Accessories  Tires and Tubes       3.0   \n",
       "3  United States  Washington      Accessories  Tires and Tubes       2.0   \n",
       "4  United States  Washington      Accessories  Tires and Tubes       3.0   \n",
       "\n",
       "   Unit Cost  Unit Price   Cost  Revenue  Column1  \n",
       "0      80.00  109.000000   80.0    109.0      NaN  \n",
       "1      24.50   28.500000   49.0     57.0      NaN  \n",
       "2       3.67    5.000000   11.0     15.0      NaN  \n",
       "3      87.50  116.500000  175.0    233.0      NaN  \n",
       "4      35.00   41.666667  105.0    125.0      NaN  "
      ]
     },
     "execution_count": 2,
     "metadata": {},
     "output_type": "execute_result"
    }
   ],
   "source": [
    "df=pd.read_csv('/kaggle/input/analyzing-customer-spending-habits-to-improve-sa/SalesForCourse_quizz_table.csv')\n",
    "df.head()"
   ]
  },
  {
   "cell_type": "code",
   "execution_count": 3,
   "id": "e0fc0421",
   "metadata": {
    "execution": {
     "iopub.execute_input": "2023-04-05T23:07:27.326700Z",
     "iopub.status.busy": "2023-04-05T23:07:27.325802Z",
     "iopub.status.idle": "2023-04-05T23:07:27.396440Z",
     "shell.execute_reply": "2023-04-05T23:07:27.395034Z"
    },
    "papermill": {
     "duration": 0.080749,
     "end_time": "2023-04-05T23:07:27.399801",
     "exception": false,
     "start_time": "2023-04-05T23:07:27.319052",
     "status": "completed"
    },
    "tags": []
   },
   "outputs": [
    {
     "data": {
      "text/html": [
       "<div>\n",
       "<style scoped>\n",
       "    .dataframe tbody tr th:only-of-type {\n",
       "        vertical-align: middle;\n",
       "    }\n",
       "\n",
       "    .dataframe tbody tr th {\n",
       "        vertical-align: top;\n",
       "    }\n",
       "\n",
       "    .dataframe thead th {\n",
       "        text-align: right;\n",
       "    }\n",
       "</style>\n",
       "<table border=\"1\" class=\"dataframe\">\n",
       "  <thead>\n",
       "    <tr style=\"text-align: right;\">\n",
       "      <th></th>\n",
       "      <th>index</th>\n",
       "      <th>Year</th>\n",
       "      <th>Customer Age</th>\n",
       "      <th>Quantity</th>\n",
       "      <th>Unit Cost</th>\n",
       "      <th>Unit Price</th>\n",
       "      <th>Cost</th>\n",
       "      <th>Revenue</th>\n",
       "      <th>Column1</th>\n",
       "    </tr>\n",
       "  </thead>\n",
       "  <tbody>\n",
       "    <tr>\n",
       "      <th>count</th>\n",
       "      <td>34867.000000</td>\n",
       "      <td>34866.000000</td>\n",
       "      <td>34866.000000</td>\n",
       "      <td>34866.000000</td>\n",
       "      <td>34866.000000</td>\n",
       "      <td>34866.000000</td>\n",
       "      <td>34866.000000</td>\n",
       "      <td>34867.000000</td>\n",
       "      <td>2574.000000</td>\n",
       "    </tr>\n",
       "    <tr>\n",
       "      <th>mean</th>\n",
       "      <td>17433.000000</td>\n",
       "      <td>2015.569237</td>\n",
       "      <td>36.382895</td>\n",
       "      <td>2.002524</td>\n",
       "      <td>349.880567</td>\n",
       "      <td>389.232485</td>\n",
       "      <td>576.004532</td>\n",
       "      <td>640.870093</td>\n",
       "      <td>688.054913</td>\n",
       "    </tr>\n",
       "    <tr>\n",
       "      <th>std</th>\n",
       "      <td>10065.380254</td>\n",
       "      <td>0.495190</td>\n",
       "      <td>11.112902</td>\n",
       "      <td>0.813936</td>\n",
       "      <td>490.015846</td>\n",
       "      <td>525.319091</td>\n",
       "      <td>690.500395</td>\n",
       "      <td>736.640033</td>\n",
       "      <td>774.200897</td>\n",
       "    </tr>\n",
       "    <tr>\n",
       "      <th>min</th>\n",
       "      <td>0.000000</td>\n",
       "      <td>2015.000000</td>\n",
       "      <td>17.000000</td>\n",
       "      <td>1.000000</td>\n",
       "      <td>0.670000</td>\n",
       "      <td>0.666667</td>\n",
       "      <td>2.000000</td>\n",
       "      <td>2.000000</td>\n",
       "      <td>2.000000</td>\n",
       "    </tr>\n",
       "    <tr>\n",
       "      <th>25%</th>\n",
       "      <td>8716.500000</td>\n",
       "      <td>2015.000000</td>\n",
       "      <td>28.000000</td>\n",
       "      <td>1.000000</td>\n",
       "      <td>45.000000</td>\n",
       "      <td>53.666667</td>\n",
       "      <td>85.000000</td>\n",
       "      <td>102.000000</td>\n",
       "      <td>104.250000</td>\n",
       "    </tr>\n",
       "    <tr>\n",
       "      <th>50%</th>\n",
       "      <td>17433.000000</td>\n",
       "      <td>2016.000000</td>\n",
       "      <td>35.000000</td>\n",
       "      <td>2.000000</td>\n",
       "      <td>150.000000</td>\n",
       "      <td>179.000000</td>\n",
       "      <td>261.000000</td>\n",
       "      <td>319.000000</td>\n",
       "      <td>390.500000</td>\n",
       "    </tr>\n",
       "    <tr>\n",
       "      <th>75%</th>\n",
       "      <td>26149.500000</td>\n",
       "      <td>2016.000000</td>\n",
       "      <td>44.000000</td>\n",
       "      <td>3.000000</td>\n",
       "      <td>455.000000</td>\n",
       "      <td>521.000000</td>\n",
       "      <td>769.000000</td>\n",
       "      <td>902.000000</td>\n",
       "      <td>975.750000</td>\n",
       "    </tr>\n",
       "    <tr>\n",
       "      <th>max</th>\n",
       "      <td>34866.000000</td>\n",
       "      <td>2016.000000</td>\n",
       "      <td>87.000000</td>\n",
       "      <td>3.000000</td>\n",
       "      <td>3240.000000</td>\n",
       "      <td>5082.000000</td>\n",
       "      <td>3600.000000</td>\n",
       "      <td>5082.000000</td>\n",
       "      <td>3681.000000</td>\n",
       "    </tr>\n",
       "  </tbody>\n",
       "</table>\n",
       "</div>"
      ],
      "text/plain": [
       "              index          Year  Customer Age      Quantity     Unit Cost  \\\n",
       "count  34867.000000  34866.000000  34866.000000  34866.000000  34866.000000   \n",
       "mean   17433.000000   2015.569237     36.382895      2.002524    349.880567   \n",
       "std    10065.380254      0.495190     11.112902      0.813936    490.015846   \n",
       "min        0.000000   2015.000000     17.000000      1.000000      0.670000   \n",
       "25%     8716.500000   2015.000000     28.000000      1.000000     45.000000   \n",
       "50%    17433.000000   2016.000000     35.000000      2.000000    150.000000   \n",
       "75%    26149.500000   2016.000000     44.000000      3.000000    455.000000   \n",
       "max    34866.000000   2016.000000     87.000000      3.000000   3240.000000   \n",
       "\n",
       "         Unit Price          Cost       Revenue      Column1  \n",
       "count  34866.000000  34866.000000  34867.000000  2574.000000  \n",
       "mean     389.232485    576.004532    640.870093   688.054913  \n",
       "std      525.319091    690.500395    736.640033   774.200897  \n",
       "min        0.666667      2.000000      2.000000     2.000000  \n",
       "25%       53.666667     85.000000    102.000000   104.250000  \n",
       "50%      179.000000    261.000000    319.000000   390.500000  \n",
       "75%      521.000000    769.000000    902.000000   975.750000  \n",
       "max     5082.000000   3600.000000   5082.000000  3681.000000  "
      ]
     },
     "execution_count": 3,
     "metadata": {},
     "output_type": "execute_result"
    }
   ],
   "source": [
    "df.describe()"
   ]
  },
  {
   "cell_type": "code",
   "execution_count": 4,
   "id": "0fc8a487",
   "metadata": {
    "execution": {
     "iopub.execute_input": "2023-04-05T23:07:27.413686Z",
     "iopub.status.busy": "2023-04-05T23:07:27.413247Z",
     "iopub.status.idle": "2023-04-05T23:07:27.445102Z",
     "shell.execute_reply": "2023-04-05T23:07:27.444132Z"
    },
    "papermill": {
     "duration": 0.04222,
     "end_time": "2023-04-05T23:07:27.447922",
     "exception": false,
     "start_time": "2023-04-05T23:07:27.405702",
     "status": "completed"
    },
    "tags": []
   },
   "outputs": [
    {
     "name": "stdout",
     "output_type": "stream",
     "text": [
      "<class 'pandas.core.frame.DataFrame'>\n",
      "RangeIndex: 34867 entries, 0 to 34866\n",
      "Data columns (total 16 columns):\n",
      " #   Column            Non-Null Count  Dtype  \n",
      "---  ------            --------------  -----  \n",
      " 0   index             34867 non-null  int64  \n",
      " 1   Date              34866 non-null  object \n",
      " 2   Year              34866 non-null  float64\n",
      " 3   Month             34866 non-null  object \n",
      " 4   Customer Age      34866 non-null  float64\n",
      " 5   Customer Gender   34866 non-null  object \n",
      " 6   Country           34866 non-null  object \n",
      " 7   State             34866 non-null  object \n",
      " 8   Product Category  34866 non-null  object \n",
      " 9   Sub Category      34866 non-null  object \n",
      " 10  Quantity          34866 non-null  float64\n",
      " 11  Unit Cost         34866 non-null  float64\n",
      " 12  Unit Price        34866 non-null  float64\n",
      " 13  Cost              34866 non-null  float64\n",
      " 14  Revenue           34867 non-null  float64\n",
      " 15  Column1           2574 non-null   float64\n",
      "dtypes: float64(8), int64(1), object(7)\n",
      "memory usage: 4.3+ MB\n"
     ]
    }
   ],
   "source": [
    "df.info()"
   ]
  },
  {
   "cell_type": "code",
   "execution_count": 5,
   "id": "ecc11b46",
   "metadata": {
    "execution": {
     "iopub.execute_input": "2023-04-05T23:07:27.462215Z",
     "iopub.status.busy": "2023-04-05T23:07:27.461014Z",
     "iopub.status.idle": "2023-04-05T23:07:27.467350Z",
     "shell.execute_reply": "2023-04-05T23:07:27.466121Z"
    },
    "papermill": {
     "duration": 0.01609,
     "end_time": "2023-04-05T23:07:27.469840",
     "exception": false,
     "start_time": "2023-04-05T23:07:27.453750",
     "status": "completed"
    },
    "tags": []
   },
   "outputs": [],
   "source": [
    "#Data preposcessing"
   ]
  },
  {
   "cell_type": "code",
   "execution_count": 6,
   "id": "879c31a8",
   "metadata": {
    "execution": {
     "iopub.execute_input": "2023-04-05T23:07:27.484208Z",
     "iopub.status.busy": "2023-04-05T23:07:27.482888Z",
     "iopub.status.idle": "2023-04-05T23:07:27.526963Z",
     "shell.execute_reply": "2023-04-05T23:07:27.525303Z"
    },
    "papermill": {
     "duration": 0.054408,
     "end_time": "2023-04-05T23:07:27.530045",
     "exception": false,
     "start_time": "2023-04-05T23:07:27.475637",
     "status": "completed"
    },
    "tags": []
   },
   "outputs": [
    {
     "name": "stdout",
     "output_type": "stream",
     "text": [
      "<bound method NDFrame._add_numeric_operations.<locals>.sum of        index   Date   Year  Month  Customer Age  Customer Gender  Country  \\\n",
      "0      False  False  False  False         False            False    False   \n",
      "1      False  False  False  False         False            False    False   \n",
      "2      False  False  False  False         False            False    False   \n",
      "3      False  False  False  False         False            False    False   \n",
      "4      False  False  False  False         False            False    False   \n",
      "...      ...    ...    ...    ...           ...              ...      ...   \n",
      "34862  False  False  False  False         False            False    False   \n",
      "34863  False  False  False  False         False            False    False   \n",
      "34864  False  False  False  False         False            False    False   \n",
      "34865  False  False  False  False         False            False    False   \n",
      "34866  False   True   True   True          True             True     True   \n",
      "\n",
      "       State  Product Category  Sub Category  Quantity  Unit Cost  Unit Price  \\\n",
      "0      False             False         False     False      False       False   \n",
      "1      False             False         False     False      False       False   \n",
      "2      False             False         False     False      False       False   \n",
      "3      False             False         False     False      False       False   \n",
      "4      False             False         False     False      False       False   \n",
      "...      ...               ...           ...       ...        ...         ...   \n",
      "34862  False             False         False     False      False       False   \n",
      "34863  False             False         False     False      False       False   \n",
      "34864  False             False         False     False      False       False   \n",
      "34865  False             False         False     False      False       False   \n",
      "34866   True              True          True      True       True        True   \n",
      "\n",
      "        Cost  Revenue  Column1  \n",
      "0      False    False     True  \n",
      "1      False    False     True  \n",
      "2      False    False     True  \n",
      "3      False    False     True  \n",
      "4      False    False     True  \n",
      "...      ...      ...      ...  \n",
      "34862  False    False     True  \n",
      "34863  False    False     True  \n",
      "34864  False    False     True  \n",
      "34865  False    False     True  \n",
      "34866   True    False     True  \n",
      "\n",
      "[34867 rows x 16 columns]>\n"
     ]
    }
   ],
   "source": [
    "df.isna()\n",
    "print(df.isna().sum)\n",
    "df_copy = df.copy()\n"
   ]
  },
  {
   "cell_type": "code",
   "execution_count": 7,
   "id": "c3e62729",
   "metadata": {
    "execution": {
     "iopub.execute_input": "2023-04-05T23:07:27.544837Z",
     "iopub.status.busy": "2023-04-05T23:07:27.543484Z",
     "iopub.status.idle": "2023-04-05T23:07:27.613806Z",
     "shell.execute_reply": "2023-04-05T23:07:27.612461Z"
    },
    "papermill": {
     "duration": 0.080728,
     "end_time": "2023-04-05T23:07:27.616856",
     "exception": false,
     "start_time": "2023-04-05T23:07:27.536128",
     "status": "completed"
    },
    "tags": []
   },
   "outputs": [
    {
     "data": {
      "text/html": [
       "<div>\n",
       "<style scoped>\n",
       "    .dataframe tbody tr th:only-of-type {\n",
       "        vertical-align: middle;\n",
       "    }\n",
       "\n",
       "    .dataframe tbody tr th {\n",
       "        vertical-align: top;\n",
       "    }\n",
       "\n",
       "    .dataframe thead th {\n",
       "        text-align: right;\n",
       "    }\n",
       "</style>\n",
       "<table border=\"1\" class=\"dataframe\">\n",
       "  <thead>\n",
       "    <tr style=\"text-align: right;\">\n",
       "      <th></th>\n",
       "      <th>index</th>\n",
       "      <th>Date</th>\n",
       "      <th>Year</th>\n",
       "      <th>Month</th>\n",
       "      <th>Customer Age</th>\n",
       "      <th>Customer Gender</th>\n",
       "      <th>Country</th>\n",
       "      <th>State</th>\n",
       "      <th>Product Category</th>\n",
       "      <th>Sub Category</th>\n",
       "      <th>Quantity</th>\n",
       "      <th>Unit Cost</th>\n",
       "      <th>Unit Price</th>\n",
       "      <th>Cost</th>\n",
       "      <th>Revenue</th>\n",
       "      <th>Column1</th>\n",
       "    </tr>\n",
       "  </thead>\n",
       "  <tbody>\n",
       "  </tbody>\n",
       "</table>\n",
       "</div>"
      ],
      "text/plain": [
       "Empty DataFrame\n",
       "Columns: [index, Date, Year, Month, Customer Age, Customer Gender, Country, State, Product Category, Sub Category, Quantity, Unit Cost, Unit Price, Cost, Revenue, Column1]\n",
       "Index: []"
      ]
     },
     "execution_count": 7,
     "metadata": {},
     "output_type": "execute_result"
    }
   ],
   "source": [
    "df_copy[df_copy.duplicated()]"
   ]
  },
  {
   "cell_type": "code",
   "execution_count": 8,
   "id": "11905ce4",
   "metadata": {
    "execution": {
     "iopub.execute_input": "2023-04-05T23:07:27.631911Z",
     "iopub.status.busy": "2023-04-05T23:07:27.631459Z",
     "iopub.status.idle": "2023-04-05T23:07:27.677671Z",
     "shell.execute_reply": "2023-04-05T23:07:27.676089Z"
    },
    "papermill": {
     "duration": 0.057595,
     "end_time": "2023-04-05T23:07:27.680717",
     "exception": false,
     "start_time": "2023-04-05T23:07:27.623122",
     "status": "completed"
    },
    "tags": []
   },
   "outputs": [
    {
     "name": "stdout",
     "output_type": "stream",
     "text": [
      "<class 'pandas.core.frame.DataFrame'>\n",
      "Int64Index: 34866 entries, 0 to 34865\n",
      "Data columns (total 15 columns):\n",
      " #   Column            Non-Null Count  Dtype  \n",
      "---  ------            --------------  -----  \n",
      " 0   index             34866 non-null  int64  \n",
      " 1   Date              34866 non-null  object \n",
      " 2   Year              34866 non-null  float64\n",
      " 3   Month             34866 non-null  object \n",
      " 4   Customer Age      34866 non-null  float64\n",
      " 5   Customer Gender   34866 non-null  object \n",
      " 6   Country           34866 non-null  object \n",
      " 7   State             34866 non-null  object \n",
      " 8   Product Category  34866 non-null  object \n",
      " 9   Sub Category      34866 non-null  object \n",
      " 10  Quantity          34866 non-null  float64\n",
      " 11  Unit Cost         34866 non-null  float64\n",
      " 12  Unit Price        34866 non-null  float64\n",
      " 13  Cost              34866 non-null  float64\n",
      " 14  Revenue           34866 non-null  float64\n",
      "dtypes: float64(7), int64(1), object(7)\n",
      "memory usage: 4.3+ MB\n"
     ]
    }
   ],
   "source": [
    "df_copy=df_copy.dropna(subset=['Date'])\n",
    "df_copy=df_copy.drop('Column1', axis=1)\n",
    "df_copy.info()"
   ]
  },
  {
   "cell_type": "code",
   "execution_count": 9,
   "id": "c0368b01",
   "metadata": {
    "execution": {
     "iopub.execute_input": "2023-04-05T23:07:27.695337Z",
     "iopub.status.busy": "2023-04-05T23:07:27.694486Z",
     "iopub.status.idle": "2023-04-05T23:07:27.943466Z",
     "shell.execute_reply": "2023-04-05T23:07:27.941633Z"
    },
    "papermill": {
     "duration": 0.259808,
     "end_time": "2023-04-05T23:07:27.946799",
     "exception": false,
     "start_time": "2023-04-05T23:07:27.686991",
     "status": "completed"
    },
    "tags": []
   },
   "outputs": [],
   "source": [
    "df_copy['Margin']=df_copy['Revenue']-df_copy['Cost']\n",
    "df_copy['Unit_Margin']=df_copy['Unit Price']-df_copy['Unit Cost']\n",
    "df_copy[\"Date\"] = pd.to_datetime(df_copy[\"Date\"])\n",
    "df_copy['Year_Month'] = df_copy['Date'].dt.strftime('%Y-%m')"
   ]
  },
  {
   "cell_type": "code",
   "execution_count": 10,
   "id": "362a17aa",
   "metadata": {
    "execution": {
     "iopub.execute_input": "2023-04-05T23:07:27.962333Z",
     "iopub.status.busy": "2023-04-05T23:07:27.961027Z",
     "iopub.status.idle": "2023-04-05T23:07:27.993671Z",
     "shell.execute_reply": "2023-04-05T23:07:27.992158Z"
    },
    "papermill": {
     "duration": 0.043662,
     "end_time": "2023-04-05T23:07:27.997004",
     "exception": false,
     "start_time": "2023-04-05T23:07:27.953342",
     "status": "completed"
    },
    "tags": []
   },
   "outputs": [
    {
     "name": "stdout",
     "output_type": "stream",
     "text": [
      "<class 'pandas.core.frame.DataFrame'>\n",
      "Int64Index: 34866 entries, 0 to 34865\n",
      "Data columns (total 18 columns):\n",
      " #   Column            Non-Null Count  Dtype         \n",
      "---  ------            --------------  -----         \n",
      " 0   index             34866 non-null  int64         \n",
      " 1   Date              34866 non-null  datetime64[ns]\n",
      " 2   Year              34866 non-null  float64       \n",
      " 3   Month             34866 non-null  object        \n",
      " 4   Customer Age      34866 non-null  float64       \n",
      " 5   Customer Gender   34866 non-null  object        \n",
      " 6   Country           34866 non-null  object        \n",
      " 7   State             34866 non-null  object        \n",
      " 8   Product Category  34866 non-null  object        \n",
      " 9   Sub Category      34866 non-null  object        \n",
      " 10  Quantity          34866 non-null  float64       \n",
      " 11  Unit Cost         34866 non-null  float64       \n",
      " 12  Unit Price        34866 non-null  float64       \n",
      " 13  Cost              34866 non-null  float64       \n",
      " 14  Revenue           34866 non-null  float64       \n",
      " 15  Margin            34866 non-null  float64       \n",
      " 16  Unit_Margin       34866 non-null  float64       \n",
      " 17  Year_Month        34866 non-null  object        \n",
      "dtypes: datetime64[ns](1), float64(9), int64(1), object(7)\n",
      "memory usage: 5.1+ MB\n"
     ]
    }
   ],
   "source": [
    "df_copy.info()"
   ]
  },
  {
   "cell_type": "code",
   "execution_count": 11,
   "id": "fc4b436a",
   "metadata": {
    "execution": {
     "iopub.execute_input": "2023-04-05T23:07:28.012425Z",
     "iopub.status.busy": "2023-04-05T23:07:28.011948Z",
     "iopub.status.idle": "2023-04-05T23:07:28.033934Z",
     "shell.execute_reply": "2023-04-05T23:07:28.032425Z"
    },
    "papermill": {
     "duration": 0.033042,
     "end_time": "2023-04-05T23:07:28.036768",
     "exception": false,
     "start_time": "2023-04-05T23:07:28.003726",
     "status": "completed"
    },
    "tags": []
   },
   "outputs": [
    {
     "name": "stdout",
     "output_type": "stream",
     "text": [
      "countries\n",
      "['United States' 'France' 'United Kingdom' 'Germany']\n",
      "State\n",
      "['Washington' 'California' 'Oregon' 'Essonne' 'Yveline' 'England' 'Hessen'\n",
      " 'Hamburg' 'Seine Saint Denis' 'Saarland' 'Nordrhein-Westfalen' 'Bayern'\n",
      " 'Seine (Paris)' 'Pas de Calais' 'Moselle' 'Hauts de Seine' 'Nord'\n",
      " 'Seine et Marne' 'Loiret' 'Charente-Maritime' 'Loir et Cher'\n",
      " 'Brandenburg' 'Alabama' \"Val d'Oise\" 'Val de Marne' 'Minnesota' 'Wyoming'\n",
      " 'Ohio' 'Garonne (Haute)' 'Kentucky' 'Texas' 'Missouri' 'Somme' 'New York'\n",
      " 'Florida' 'Illinois' 'South Carolina' 'North Carolina' 'Georgia'\n",
      " 'Virginia' 'Mississippi' 'Montana' 'Arizona' 'Massachusetts' 'Utah']\n",
      "Products\n",
      "['Accessories' 'Clothing' 'Bikes']\n",
      "Sub categories\n",
      "['Tires and Tubes' 'Gloves' 'Helmets' 'Bike Stands' 'Mountain Bikes'\n",
      " 'Hydration Packs' 'Jerseys' 'Fenders' 'Cleaners' 'Socks' 'Caps'\n",
      " 'Touring Bikes' 'Bottles and Cages' 'Vests' 'Road Bikes' 'Bike Racks'\n",
      " 'Shorts']\n"
     ]
    }
   ],
   "source": [
    "print('countries')\n",
    "print(df_copy['Country'].unique())\n",
    "print('State')\n",
    "print(df_copy['State'].unique())\n",
    "print('Products')\n",
    "print(df_copy['Product Category'].unique())\n",
    "print('Sub categories')\n",
    "print(df_copy['Sub Category'].unique())"
   ]
  },
  {
   "cell_type": "code",
   "execution_count": 12,
   "id": "cd0ae16f",
   "metadata": {
    "execution": {
     "iopub.execute_input": "2023-04-05T23:07:28.052496Z",
     "iopub.status.busy": "2023-04-05T23:07:28.051989Z",
     "iopub.status.idle": "2023-04-05T23:07:28.063074Z",
     "shell.execute_reply": "2023-04-05T23:07:28.061841Z"
    },
    "papermill": {
     "duration": 0.021878,
     "end_time": "2023-04-05T23:07:28.065569",
     "exception": false,
     "start_time": "2023-04-05T23:07:28.043691",
     "status": "completed"
    },
    "tags": []
   },
   "outputs": [
    {
     "data": {
      "text/plain": [
       "Year\n",
       "2015.0     9947771.0\n",
       "2016.0    12396805.0\n",
       "Name: Revenue, dtype: float64"
      ]
     },
     "execution_count": 12,
     "metadata": {},
     "output_type": "execute_result"
    }
   ],
   "source": [
    "df_copy.groupby('Year')['Revenue'].sum()"
   ]
  },
  {
   "cell_type": "code",
   "execution_count": null,
   "id": "4598dcf4",
   "metadata": {
    "papermill": {
     "duration": 0.005818,
     "end_time": "2023-04-05T23:07:28.077718",
     "exception": false,
     "start_time": "2023-04-05T23:07:28.071900",
     "status": "completed"
    },
    "tags": []
   },
   "outputs": [],
   "source": []
  },
  {
   "cell_type": "code",
   "execution_count": 13,
   "id": "569d8022",
   "metadata": {
    "execution": {
     "iopub.execute_input": "2023-04-05T23:07:28.092025Z",
     "iopub.status.busy": "2023-04-05T23:07:28.091591Z",
     "iopub.status.idle": "2023-04-05T23:07:28.349457Z",
     "shell.execute_reply": "2023-04-05T23:07:28.347796Z"
    },
    "papermill": {
     "duration": 0.270074,
     "end_time": "2023-04-05T23:07:28.353927",
     "exception": false,
     "start_time": "2023-04-05T23:07:28.083853",
     "status": "completed"
    },
    "tags": []
   },
   "outputs": [
    {
     "name": "stdout",
     "output_type": "stream",
     "text": [
      "Country\n",
      "France             3446104.0\n",
      "Germany            4244510.0\n",
      "United Kingdom     4276220.0\n",
      "United States     10377742.0\n",
      "Name: Revenue, dtype: float64\n"
     ]
    },
    {
     "data": {
      "image/png": "[encoded data removed]",
      "text/plain": [
       "<Figure size 640x480 with 1 Axes>"
      ]
     },
     "metadata": {},
     "output_type": "display_data"
    }
   ],
   "source": [
    "country_spending_habits=df_copy.groupby('Country')['Revenue'].sum()\n",
    "print(country_spending_habits)\n",
    "#Add Title\n",
    "country_spending_habits.plot(kind=\"pie\", y= \"Revenue\")\n",
    "plt.title(\"Revenue Per Country\")\n",
    "\n",
    "\n",
    "# Show the chart\n",
    "plt.show()"
   ]
  },
  {
   "cell_type": "code",
   "execution_count": 14,
   "id": "bb918ede",
   "metadata": {
    "execution": {
     "iopub.execute_input": "2023-04-05T23:07:28.384885Z",
     "iopub.status.busy": "2023-04-05T23:07:28.384463Z",
     "iopub.status.idle": "2023-04-05T23:07:28.678475Z",
     "shell.execute_reply": "2023-04-05T23:07:28.677158Z"
    },
    "papermill": {
     "duration": 0.309594,
     "end_time": "2023-04-05T23:07:28.681370",
     "exception": false,
     "start_time": "2023-04-05T23:07:28.371776",
     "status": "completed"
    },
    "tags": []
   },
   "outputs": [
    {
     "name": "stdout",
     "output_type": "stream",
     "text": [
      "                         Revenue\n",
      "Country        Year             \n",
      "United States  2016.0  5642334.0\n",
      "               2015.0  4735408.0\n",
      "Germany        2016.0  2471187.0\n",
      "United Kingdom 2016.0  2381753.0\n",
      "France         2016.0  1901531.0\n",
      "United Kingdom 2015.0  1894467.0\n",
      "Germany        2015.0  1773323.0\n",
      "France         2015.0  1544573.0\n"
     ]
    },
    {
     "data": {
      "image/png": "[encoded data removed]",
      "text/plain": [
       "<Figure size 640x480 with 1 Axes>"
      ]
     },
     "metadata": {},
     "output_type": "display_data"
    }
   ],
   "source": [
    "# Create a bar chart of the top spending categories grouped by year and country\n",
    "country_spending_habits_year=df_copy.groupby(['Country',\"Year\"]).agg({\"Revenue\": \"sum\"})\n",
    "\n",
    "print(country_spending_habits_year.sort_values(by=\"Revenue\", ascending=False))\n",
    "#Add Title\n",
    "spending_habits_by_year=country_spending_habits_year.sort_values(by=\"Revenue\", ascending=False)\n",
    "spending_habits_by_year.plot(kind=\"bar\")\n",
    "plt.title(\"Revenue Per Country by year\")\n",
    "#Bar Chart showing number of items sold and revenue\n",
    "plt.xlabel(\"Demographic Group\")\n",
    "plt.ylabel(\"Total Spending\")\n",
    "\n",
    "# Show the chart\n",
    "plt.show()"
   ]
  },
  {
   "cell_type": "code",
   "execution_count": 15,
   "id": "0668d37c",
   "metadata": {
    "execution": {
     "iopub.execute_input": "2023-04-05T23:07:28.699624Z",
     "iopub.status.busy": "2023-04-05T23:07:28.698437Z",
     "iopub.status.idle": "2023-04-05T23:07:28.719335Z",
     "shell.execute_reply": "2023-04-05T23:07:28.718148Z"
    },
    "papermill": {
     "duration": 0.033502,
     "end_time": "2023-04-05T23:07:28.722527",
     "exception": false,
     "start_time": "2023-04-05T23:07:28.689025",
     "status": "completed"
    },
    "tags": []
   },
   "outputs": [
    {
     "name": "stdout",
     "output_type": "stream",
     "text": [
      "                                   Revenue\n",
      "Country        Product Category           \n",
      "United States  Bikes             4733208.0\n",
      "               Accessories       3723029.0\n",
      "Germany        Bikes             2465427.0\n",
      "United Kingdom Bikes             2415117.0\n",
      "United States  Clothing          1921505.0\n",
      "France         Bikes             1872603.0\n",
      "United Kingdom Accessories       1309048.0\n",
      "Germany        Accessories       1289410.0\n",
      "France         Accessories       1099177.0\n",
      "United Kingdom Clothing           552055.0\n",
      "Germany        Clothing           489673.0\n",
      "France         Clothing           474324.0\n"
     ]
    }
   ],
   "source": [
    "# Group the data by demographics columns and calculate the total spending\n",
    "spending_by_demographics = df_copy.groupby([\"Country\",\"Product Category\"]).agg({\"Revenue\": \"sum\"})\n",
    "\n",
    "# Print the top spending categories by demographic group\n",
    "print(spending_by_demographics.sort_values(by=\"Revenue\", ascending=False))"
   ]
  },
  {
   "cell_type": "code",
   "execution_count": 16,
   "id": "b2305f7d",
   "metadata": {
    "execution": {
     "iopub.execute_input": "2023-04-05T23:07:28.740392Z",
     "iopub.status.busy": "2023-04-05T23:07:28.739936Z",
     "iopub.status.idle": "2023-04-05T23:07:29.064279Z",
     "shell.execute_reply": "2023-04-05T23:07:29.063201Z"
    },
    "papermill": {
     "duration": 0.336679,
     "end_time": "2023-04-05T23:07:29.067156",
     "exception": false,
     "start_time": "2023-04-05T23:07:28.730477",
     "status": "completed"
    },
    "tags": []
   },
   "outputs": [
    {
     "data": {
      "image/png": "[encoded data removed]",
      "text/plain": [
       "<Figure size 640x480 with 1 Axes>"
      ]
     },
     "metadata": {},
     "output_type": "display_data"
    }
   ],
   "source": [
    "top_spending = spending_by_demographics.sort_values(by=\"Revenue\", ascending=False).head(15)\n",
    "\n",
    "# Create a bar chart of the top spending categories by demographic group\n",
    "top_spending.plot(kind=\"bar\")\n",
    "\n",
    "# Add a title and labels to the chart\n",
    "plt.title(\"Top 15 Spending Categories by Demographic Group\")\n",
    "plt.xlabel(\"Demographic Group\")\n",
    "plt.ylabel(\"Total Spending\")\n",
    "\n",
    "# Show the chart\n",
    "plt.show()"
   ]
  }
 ],
 "metadata": {
  "kernelspec": {
   "display_name": "Python 3",
   "language": "python",
   "name": "python3"
  },
  "language_info": {
   "codemirror_mode": {
    "name": "ipython",
    "version": 3
   },
   "file_extension": ".py",
   "mimetype": "text/x-python",
   "name": "python",
   "nbconvert_exporter": "python",
   "pygments_lexer": "ipython3",
   "version": "3.7.12"
  },
  "papermill": {
   "default_parameters": {},
   "duration": 14.418137,
   "end_time": "2023-04-05T23:07:29.901641",
   "environment_variables": {},
   "exception": null,
   "input_path": "__notebook__.ipynb",
   "output_path": "__notebook__.ipynb",
   "parameters": {},
   "start_time": "2023-04-05T23:07:15.483504",
   "version": "2.4.0"
  }
 },
 "nbformat": 4,
 "nbformat_minor": 5
}
